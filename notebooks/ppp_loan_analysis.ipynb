{
 "cells": [
  {
   "cell_type": "code",
   "execution_count": 2,
   "metadata": {},
   "outputs": [],
   "source": [
    "import pandas as pd"
   ]
  },
  {
   "cell_type": "code",
   "execution_count": 6,
   "metadata": {},
   "outputs": [],
   "source": [
    "# read in the data \n",
    "\n",
    "DATA_PATH = '/Users/markgiangreco/Documents/dataprojects/ppp_loans/data/ppp_data_150k_plus.csv'\n",
    "\n",
    "ppp = pd.read_csv(DATA_PATH)"
   ]
  },
  {
   "cell_type": "code",
   "execution_count": 4,
   "metadata": {},
   "outputs": [
    {
     "data": {
      "text/plain": [
       "(661218, 16)"
      ]
     },
     "execution_count": 4,
     "metadata": {},
     "output_type": "execute_result"
    }
   ],
   "source": [
    "ppp.shape"
   ]
  },
  {
   "cell_type": "code",
   "execution_count": 5,
   "metadata": {},
   "outputs": [
    {
     "data": {
      "text/html": [
       "<div>\n",
       "<style scoped>\n",
       "    .dataframe tbody tr th:only-of-type {\n",
       "        vertical-align: middle;\n",
       "    }\n",
       "\n",
       "    .dataframe tbody tr th {\n",
       "        vertical-align: top;\n",
       "    }\n",
       "\n",
       "    .dataframe thead th {\n",
       "        text-align: right;\n",
       "    }\n",
       "</style>\n",
       "<table border=\"1\" class=\"dataframe\">\n",
       "  <thead>\n",
       "    <tr style=\"text-align: right;\">\n",
       "      <th></th>\n",
       "      <th>LoanRange</th>\n",
       "      <th>BusinessName</th>\n",
       "      <th>Address</th>\n",
       "      <th>City</th>\n",
       "      <th>State</th>\n",
       "      <th>Zip</th>\n",
       "      <th>NAICSCode</th>\n",
       "      <th>BusinessType</th>\n",
       "      <th>RaceEthnicity</th>\n",
       "      <th>Gender</th>\n",
       "      <th>Veteran</th>\n",
       "      <th>NonProfit</th>\n",
       "      <th>JobsRetained</th>\n",
       "      <th>DateApproved</th>\n",
       "      <th>Lender</th>\n",
       "      <th>CD</th>\n",
       "    </tr>\n",
       "  </thead>\n",
       "  <tbody>\n",
       "    <tr>\n",
       "      <th>81709</th>\n",
       "      <td>e $150,000-350,000</td>\n",
       "      <td>GRIFF INDUSTRIES, INC.</td>\n",
       "      <td>4515 RUNWAY DR</td>\n",
       "      <td>LANCASTER</td>\n",
       "      <td>CA</td>\n",
       "      <td>93536.0</td>\n",
       "      <td>326199.0</td>\n",
       "      <td>Corporation</td>\n",
       "      <td>Unanswered</td>\n",
       "      <td>Male Owned</td>\n",
       "      <td>Non-Veteran</td>\n",
       "      <td>NaN</td>\n",
       "      <td>16.0</td>\n",
       "      <td>05/03/2020</td>\n",
       "      <td>U.S. Bank, National Association</td>\n",
       "      <td>CA - 23</td>\n",
       "    </tr>\n",
       "  </tbody>\n",
       "</table>\n",
       "</div>"
      ],
      "text/plain": [
       "                LoanRange            BusinessName         Address       City  \\\n",
       "81709  e $150,000-350,000  GRIFF INDUSTRIES, INC.  4515 RUNWAY DR  LANCASTER   \n",
       "\n",
       "      State      Zip  NAICSCode BusinessType RaceEthnicity      Gender  \\\n",
       "81709    CA  93536.0   326199.0  Corporation    Unanswered  Male Owned   \n",
       "\n",
       "           Veteran NonProfit  JobsRetained DateApproved  \\\n",
       "81709  Non-Veteran       NaN          16.0   05/03/2020   \n",
       "\n",
       "                                Lender       CD  \n",
       "81709  U.S. Bank, National Association  CA - 23  "
      ]
     },
     "execution_count": 5,
     "metadata": {},
     "output_type": "execute_result"
    }
   ],
   "source": [
    "ppp.sample()"
   ]
  },
  {
   "cell_type": "code",
   "execution_count": 11,
   "metadata": {},
   "outputs": [
    {
     "data": {
      "text/plain": [
       "e $150,000-350,000      379054\n",
       "d $350,000-1 million    199456\n",
       "c $1-2 million           53030\n",
       "b $2-5 million           24838\n",
       "a $5-10 million           4840\n",
       "Name: LoanRange, dtype: int64"
      ]
     },
     "execution_count": 11,
     "metadata": {},
     "output_type": "execute_result"
    }
   ],
   "source": [
    "# number of loans made at each LoanRange\n",
    "\n",
    "ppp['LoanRange'].value_counts()"
   ]
  },
  {
   "cell_type": "code",
   "execution_count": 12,
   "metadata": {},
   "outputs": [
    {
     "data": {
      "text/plain": [
       "e $150,000-350,000      0.573266\n",
       "d $350,000-1 million    0.301649\n",
       "c $1-2 million          0.080200\n",
       "b $2-5 million          0.037564\n",
       "a $5-10 million         0.007320\n",
       "Name: LoanRange, dtype: float64"
      ]
     },
     "execution_count": 12,
     "metadata": {},
     "output_type": "execute_result"
    }
   ],
   "source": [
    "# pct of loans made at each LoanRange\n",
    "\n",
    "ppp['LoanRange'].value_counts(normalize=True)"
   ]
  },
  {
   "cell_type": "code",
   "execution_count": 14,
   "metadata": {},
   "outputs": [
    {
     "data": {
      "text/plain": [
       "Unanswered                          0.857080\n",
       "White                               0.119147\n",
       "Asian                               0.010797\n",
       "Hispanic                            0.009378\n",
       "Black or African American           0.002763\n",
       "American Indian or Alaska Native    0.000833\n",
       "Puerto Rican                        0.000002\n",
       "Name: RaceEthnicity, dtype: float64"
      ]
     },
     "execution_count": 14,
     "metadata": {},
     "output_type": "execute_result"
    }
   ],
   "source": [
    "# pct of loans made for each RaceEthnicity\n",
    "\n",
    "ppp['RaceEthnicity'].value_counts(normalize=True)"
   ]
  },
  {
   "cell_type": "code",
   "execution_count": null,
   "metadata": {},
   "outputs": [],
   "source": []
  },
  {
   "cell_type": "code",
   "execution_count": null,
   "metadata": {},
   "outputs": [],
   "source": []
  }
 ],
 "metadata": {
  "kernelspec": {
   "display_name": "Python 3",
   "language": "python",
   "name": "python3"
  },
  "language_info": {
   "codemirror_mode": {
    "name": "ipython",
    "version": 3
   },
   "file_extension": ".py",
   "mimetype": "text/x-python",
   "name": "python",
   "nbconvert_exporter": "python",
   "pygments_lexer": "ipython3",
   "version": "3.7.6"
  }
 },
 "nbformat": 4,
 "nbformat_minor": 4
}
